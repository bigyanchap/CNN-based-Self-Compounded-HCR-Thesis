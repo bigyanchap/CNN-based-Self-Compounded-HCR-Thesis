{
 "cells": [
  {
   "cell_type": "markdown",
   "metadata": {},
   "source": [
    "# Devanagari Handwritten Character Recognition"
   ]
  },
  {
   "cell_type": "markdown",
   "metadata": {},
   "source": [
    "### imports:"
   ]
  },
  {
   "cell_type": "code",
   "execution_count": 1,
   "metadata": {},
   "outputs": [],
   "source": [
    "import tensorflow as tf\n",
    "import pandas as pd\n",
    "import numpy as np\n",
    "import os\n",
    "import cv2\n",
    "from tensorflow import keras\n",
    "from tensorflow.keras.models import Sequential\n",
    "from tensorflow.keras import layers\n",
    "from tensorflow.keras.layers import Dense, Dropout, Activation, Flatten, Conv2D, MaxPooling2D\n",
    "from  matplotlib import pyplot as plt\n",
    "import matplotlib.image as mpimg\n",
    "%matplotlib inline\n",
    "import PIL\n",
    "import pathlib"
   ]
  },
  {
   "cell_type": "markdown",
   "metadata": {},
   "source": [
    "### create an array of classes from the train directory classes:"
   ]
  },
  {
   "cell_type": "code",
   "execution_count": 3,
   "metadata": {},
   "outputs": [
    {
     "name": "stdout",
     "output_type": "stream",
     "text": [
      "['bra', 'dda', 'dma', 'dra', 'dwa', 'dya', 'gri', 'hra', 'hri', 'hya', 'kra', 'mra', 'mri', 'pra', 'rhi', 'shra', 'tra', 'traw', 'tta']\n",
      "19\n"
     ]
    }
   ],
   "source": [
    "path=\"data/train\"\n",
    "_classes = os.listdir(path)\n",
    "num_classes=len(_classes)\n",
    "print(_classes)\n",
    "print(num_classes)"
   ]
  },
  {
   "cell_type": "markdown",
   "metadata": {},
   "source": [
    "### dataset get "
   ]
  },
  {
   "cell_type": "code",
   "execution_count": 5,
   "metadata": {},
   "outputs": [
    {
     "name": "stdout",
     "output_type": "stream",
     "text": [
      "Found 3762 files belonging to 19 classes.\n",
      "Using 3010 files for training.\n",
      "Found 418 files belonging to 19 classes.\n",
      "Using 83 files for validation.\n",
      "['bra', 'dda', 'dma', 'dra', 'dwa', 'dya', 'gri', 'hra', 'hri', 'hya', 'kra', 'mra', 'mri', 'pra', 'rhi', 'shra', 'tra', 'traw', 'tta']\n"
     ]
    }
   ],
   "source": [
    "batch_size = 22\n",
    "\n",
    "train_ds = tf.keras.preprocessing.image_dataset_from_directory(\n",
    "  'data/train',\n",
    "  validation_split=0.2,\n",
    "  subset=\"training\",\n",
    "  seed=123,\n",
    "  image_size=(28, 28),\n",
    "  batch_size=batch_size)\n",
    "\n",
    "val_ds = tf.keras.preprocessing.image_dataset_from_directory(\n",
    "  'data/validation',\n",
    "  validation_split=0.2,\n",
    "  subset=\"validation\",\n",
    "  seed=123,\n",
    "  image_size=(28, 28),\n",
    "  batch_size=batch_size)\n",
    "\n",
    "class_names = train_ds.class_names\n",
    "print(class_names)"
   ]
  },
  {
   "cell_type": "markdown",
   "metadata": {},
   "source": [
    "### Autotune"
   ]
  },
  {
   "cell_type": "code",
   "execution_count": 6,
   "metadata": {},
   "outputs": [
    {
     "name": "stdout",
     "output_type": "stream",
     "text": [
      "(28, 28, 3)\n"
     ]
    }
   ],
   "source": [
    "AUTOTUNE = tf.data.experimental.AUTOTUNE\n",
    "\n",
    "train_ds = train_ds.cache().shuffle(1000).prefetch(buffer_size=AUTOTUNE)\n",
    "val_ds = val_ds.cache().prefetch(buffer_size=AUTOTUNE)\n",
    "normalization_layer = layers.experimental.preprocessing.Rescaling(1./255)\n",
    "normalized_ds = train_ds.map(lambda x, y: (normalization_layer(x), y))\n",
    "image_batch, labels_batch = next(iter(normalized_ds))\n",
    "first_image = image_batch[0]\n",
    "print(first_image.shape)"
   ]
  },
  {
   "cell_type": "markdown",
   "metadata": {},
   "source": [
    "### model setup, compile and training"
   ]
  },
  {
   "cell_type": "code",
   "execution_count": 7,
   "metadata": {},
   "outputs": [],
   "source": [
    "model = Sequential([\n",
    "  layers.experimental.preprocessing.Rescaling(1./255, input_shape=(28, 28, 3)),\n",
    "  layers.Conv2D(64, 3, padding='same', activation='relu'),\n",
    "  layers.MaxPooling2D(),\n",
    "  layers.Dropout(.2),\n",
    "  layers.Conv2D(128, 3, padding='same', activation='relu'),\n",
    "  layers.MaxPooling2D(),\n",
    "  layers.Dropout(.2),\n",
    "  layers.Conv2D(128, 3, padding='same', activation='relu'),\n",
    "  layers.MaxPooling2D(),\n",
    "  layers.Dropout(.2),\n",
    "  layers.Conv2D(64, 3, padding='same', activation='relu'),\n",
    "  layers.MaxPooling2D(),\n",
    "  layers.Dropout(.2),\n",
    "  layers.Flatten(),\n",
    "  layers.Dense(128, activation='relu'),\n",
    "  layers.Dense(256, activation='relu'),\n",
    "  layers.Dense(128, activation='relu'),\n",
    "  layers.Dense(num_classes)\n",
    "])\n",
    "\n",
    "model.compile(optimizer='adam',\n",
    "              loss=tf.keras.losses.SparseCategoricalCrossentropy(from_logits=True),\n",
    "              metrics=['accuracy'])\n",
    "\n",
    "epochs=50"
   ]
  },
  {
   "cell_type": "code",
   "execution_count": 8,
   "metadata": {},
   "outputs": [
    {
     "name": "stdout",
     "output_type": "stream",
     "text": [
      "Model: \"sequential\"\n",
      "_________________________________________________________________\n",
      "Layer (type)                 Output Shape              Param #   \n",
      "=================================================================\n",
      "rescaling_1 (Rescaling)      (None, 28, 28, 3)         0         \n",
      "_________________________________________________________________\n",
      "conv2d (Conv2D)              (None, 28, 28, 64)        1792      \n",
      "_________________________________________________________________\n",
      "max_pooling2d (MaxPooling2D) (None, 14, 14, 64)        0         \n",
      "_________________________________________________________________\n",
      "dropout (Dropout)            (None, 14, 14, 64)        0         \n",
      "_________________________________________________________________\n",
      "conv2d_1 (Conv2D)            (None, 14, 14, 128)       73856     \n",
      "_________________________________________________________________\n",
      "max_pooling2d_1 (MaxPooling2 (None, 7, 7, 128)         0         \n",
      "_________________________________________________________________\n",
      "dropout_1 (Dropout)          (None, 7, 7, 128)         0         \n",
      "_________________________________________________________________\n",
      "conv2d_2 (Conv2D)            (None, 7, 7, 128)         147584    \n",
      "_________________________________________________________________\n",
      "max_pooling2d_2 (MaxPooling2 (None, 3, 3, 128)         0         \n",
      "_________________________________________________________________\n",
      "dropout_2 (Dropout)          (None, 3, 3, 128)         0         \n",
      "_________________________________________________________________\n",
      "conv2d_3 (Conv2D)            (None, 3, 3, 64)          73792     \n",
      "_________________________________________________________________\n",
      "max_pooling2d_3 (MaxPooling2 (None, 1, 1, 64)          0         \n",
      "_________________________________________________________________\n",
      "dropout_3 (Dropout)          (None, 1, 1, 64)          0         \n",
      "_________________________________________________________________\n",
      "flatten (Flatten)            (None, 64)                0         \n",
      "_________________________________________________________________\n",
      "dense (Dense)                (None, 128)               8320      \n",
      "_________________________________________________________________\n",
      "dense_1 (Dense)              (None, 256)               33024     \n",
      "_________________________________________________________________\n",
      "dense_2 (Dense)              (None, 128)               32896     \n",
      "_________________________________________________________________\n",
      "dense_3 (Dense)              (None, 19)                2451      \n",
      "=================================================================\n",
      "Total params: 373,715\n",
      "Trainable params: 373,715\n",
      "Non-trainable params: 0\n",
      "_________________________________________________________________\n"
     ]
    }
   ],
   "source": [
    "model.summary()"
   ]
  },
  {
   "cell_type": "markdown",
   "metadata": {},
   "source": [
    "### Train the model"
   ]
  },
  {
   "cell_type": "code",
   "execution_count": 9,
   "metadata": {},
   "outputs": [
    {
     "name": "stdout",
     "output_type": "stream",
     "text": [
      "Epoch 1/50\n",
      "137/137 [==============================] - 12s 82ms/step - loss: 2.9478 - accuracy: 0.0492 - val_loss: 2.9453 - val_accuracy: 0.0482\n",
      "Epoch 2/50\n",
      "137/137 [==============================] - 10s 76ms/step - loss: 2.9068 - accuracy: 0.0724 - val_loss: 2.6371 - val_accuracy: 0.1325\n",
      "Epoch 3/50\n",
      "137/137 [==============================] - 11s 82ms/step - loss: 2.2881 - accuracy: 0.1900 - val_loss: 1.8523 - val_accuracy: 0.3614\n",
      "Epoch 4/50\n",
      "137/137 [==============================] - 12s 88ms/step - loss: 1.4623 - accuracy: 0.4326 - val_loss: 0.9799 - val_accuracy: 0.6747\n",
      "Epoch 5/50\n",
      "137/137 [==============================] - 11s 83ms/step - loss: 0.9656 - accuracy: 0.6073 - val_loss: 0.8290 - val_accuracy: 0.6506\n",
      "Epoch 6/50\n",
      "137/137 [==============================] - 12s 89ms/step - loss: 0.7925 - accuracy: 0.6774 - val_loss: 0.6046 - val_accuracy: 0.7108\n",
      "Epoch 7/50\n",
      "137/137 [==============================] - 11s 83ms/step - loss: 0.6865 - accuracy: 0.7276 - val_loss: 0.5483 - val_accuracy: 0.7590\n",
      "Epoch 8/50\n",
      "137/137 [==============================] - 12s 84ms/step - loss: 0.5961 - accuracy: 0.7698 - val_loss: 0.4890 - val_accuracy: 0.8434\n",
      "Epoch 9/50\n",
      "137/137 [==============================] - 12s 91ms/step - loss: 0.4561 - accuracy: 0.8196 - val_loss: 0.3646 - val_accuracy: 0.8675\n",
      "Epoch 10/50\n",
      "137/137 [==============================] - 11s 82ms/step - loss: 0.4411 - accuracy: 0.8216 - val_loss: 0.3710 - val_accuracy: 0.8313\n",
      "Epoch 11/50\n",
      "137/137 [==============================] - 11s 84ms/step - loss: 0.3751 - accuracy: 0.8505 - val_loss: 0.3838 - val_accuracy: 0.8434\n",
      "Epoch 12/50\n",
      "137/137 [==============================] - 12s 90ms/step - loss: 0.3257 - accuracy: 0.8664 - val_loss: 0.2838 - val_accuracy: 0.8795\n",
      "Epoch 13/50\n",
      "137/137 [==============================] - 12s 87ms/step - loss: 0.3186 - accuracy: 0.8671 - val_loss: 0.2732 - val_accuracy: 0.8916\n",
      "Epoch 14/50\n",
      "137/137 [==============================] - 11s 81ms/step - loss: 0.3352 - accuracy: 0.8684 - val_loss: 0.3111 - val_accuracy: 0.8795\n",
      "Epoch 15/50\n",
      "137/137 [==============================] - 12s 87ms/step - loss: 0.2775 - accuracy: 0.8967 - val_loss: 0.2985 - val_accuracy: 0.8916\n",
      "Epoch 16/50\n",
      "137/137 [==============================] - 12s 88ms/step - loss: 0.2636 - accuracy: 0.8997 - val_loss: 0.2950 - val_accuracy: 0.8916\n",
      "Epoch 17/50\n",
      "137/137 [==============================] - 12s 89ms/step - loss: 0.2605 - accuracy: 0.8997 - val_loss: 0.2463 - val_accuracy: 0.9157\n",
      "Epoch 18/50\n",
      "137/137 [==============================] - 11s 81ms/step - loss: 0.2473 - accuracy: 0.9053 - val_loss: 0.2727 - val_accuracy: 0.9157\n",
      "Epoch 19/50\n",
      "137/137 [==============================] - 13s 91ms/step - loss: 0.2254 - accuracy: 0.9179 - val_loss: 0.1959 - val_accuracy: 0.9157\n",
      "Epoch 20/50\n",
      "137/137 [==============================] - 13s 92ms/step - loss: 0.1808 - accuracy: 0.9302 - val_loss: 0.2175 - val_accuracy: 0.9277\n",
      "Epoch 21/50\n",
      "137/137 [==============================] - 12s 88ms/step - loss: 0.2004 - accuracy: 0.9262 - val_loss: 0.4062 - val_accuracy: 0.9036\n",
      "Epoch 22/50\n",
      "137/137 [==============================] - 12s 86ms/step - loss: 0.2077 - accuracy: 0.9239 - val_loss: 0.2148 - val_accuracy: 0.9036\n",
      "Epoch 23/50\n",
      "137/137 [==============================] - 12s 85ms/step - loss: 0.1628 - accuracy: 0.9415 - val_loss: 0.2121 - val_accuracy: 0.9277\n",
      "Epoch 24/50\n",
      "137/137 [==============================] - 12s 86ms/step - loss: 0.1568 - accuracy: 0.9409 - val_loss: 0.2084 - val_accuracy: 0.9277\n",
      "Epoch 25/50\n",
      "137/137 [==============================] - 12s 86ms/step - loss: 0.1561 - accuracy: 0.9419 - val_loss: 0.3220 - val_accuracy: 0.9398\n",
      "Epoch 26/50\n",
      "137/137 [==============================] - 14s 100ms/step - loss: 0.1399 - accuracy: 0.9442 - val_loss: 0.2410 - val_accuracy: 0.8916\n",
      "Epoch 27/50\n",
      "137/137 [==============================] - 14s 100ms/step - loss: 0.1670 - accuracy: 0.9429 - val_loss: 0.2105 - val_accuracy: 0.9277\n",
      "Epoch 28/50\n",
      "137/137 [==============================] - 14s 101ms/step - loss: 0.1489 - accuracy: 0.9512 - val_loss: 0.2941 - val_accuracy: 0.9398\n",
      "Epoch 29/50\n",
      "137/137 [==============================] - 14s 100ms/step - loss: 0.1329 - accuracy: 0.9568 - val_loss: 0.2166 - val_accuracy: 0.9398\n",
      "Epoch 30/50\n",
      "137/137 [==============================] - 13s 91ms/step - loss: 0.1284 - accuracy: 0.9585 - val_loss: 0.1217 - val_accuracy: 0.9518\n",
      "Epoch 31/50\n",
      "137/137 [==============================] - 13s 96ms/step - loss: 0.1380 - accuracy: 0.9498 - val_loss: 0.1822 - val_accuracy: 0.9398\n",
      "Epoch 32/50\n",
      "137/137 [==============================] - 12s 84ms/step - loss: 0.1282 - accuracy: 0.9561 - val_loss: 0.3134 - val_accuracy: 0.9277\n",
      "Epoch 33/50\n",
      "137/137 [==============================] - 12s 88ms/step - loss: 0.1357 - accuracy: 0.9555 - val_loss: 0.2774 - val_accuracy: 0.9157\n",
      "Epoch 34/50\n",
      "137/137 [==============================] - 12s 87ms/step - loss: 0.1256 - accuracy: 0.9571 - val_loss: 0.4021 - val_accuracy: 0.9157\n",
      "Epoch 35/50\n",
      "137/137 [==============================] - 13s 98ms/step - loss: 0.1210 - accuracy: 0.9558 - val_loss: 0.2473 - val_accuracy: 0.9398\n",
      "Epoch 36/50\n",
      "137/137 [==============================] - 14s 103ms/step - loss: 0.1308 - accuracy: 0.9571 - val_loss: 0.2841 - val_accuracy: 0.9398\n",
      "Epoch 37/50\n",
      "137/137 [==============================] - 13s 94ms/step - loss: 0.1180 - accuracy: 0.9585 - val_loss: 0.4426 - val_accuracy: 0.9157\n",
      "Epoch 38/50\n",
      "137/137 [==============================] - 13s 91ms/step - loss: 0.1120 - accuracy: 0.9625 - val_loss: 0.3469 - val_accuracy: 0.9277\n",
      "Epoch 39/50\n",
      "137/137 [==============================] - 12s 89ms/step - loss: 0.1239 - accuracy: 0.9618 - val_loss: 0.3607 - val_accuracy: 0.9157\n",
      "Epoch 40/50\n",
      "137/137 [==============================] - 12s 90ms/step - loss: 0.1163 - accuracy: 0.9608 - val_loss: 0.4104 - val_accuracy: 0.8916\n",
      "Epoch 41/50\n",
      "137/137 [==============================] - 13s 92ms/step - loss: 0.0824 - accuracy: 0.9728 - val_loss: 0.2763 - val_accuracy: 0.9277\n",
      "Epoch 42/50\n",
      "137/137 [==============================] - 11s 83ms/step - loss: 0.1254 - accuracy: 0.9598 - val_loss: 0.2853 - val_accuracy: 0.9157\n",
      "Epoch 43/50\n",
      "137/137 [==============================] - 12s 90ms/step - loss: 0.1151 - accuracy: 0.9611 - val_loss: 0.3390 - val_accuracy: 0.9277\n",
      "Epoch 44/50\n",
      "137/137 [==============================] - 12s 88ms/step - loss: 0.0937 - accuracy: 0.9718 - val_loss: 0.3392 - val_accuracy: 0.9398\n",
      "Epoch 45/50\n",
      "137/137 [==============================] - 13s 93ms/step - loss: 0.0807 - accuracy: 0.9714 - val_loss: 0.2498 - val_accuracy: 0.9518\n",
      "Epoch 46/50\n",
      "137/137 [==============================] - 14s 104ms/step - loss: 0.0768 - accuracy: 0.9731 - val_loss: 0.3580 - val_accuracy: 0.9277\n",
      "Epoch 47/50\n",
      "137/137 [==============================] - 14s 102ms/step - loss: 0.0949 - accuracy: 0.9711 - val_loss: 0.2142 - val_accuracy: 0.9277\n",
      "Epoch 48/50\n",
      "137/137 [==============================] - 12s 86ms/step - loss: 0.0934 - accuracy: 0.9708 - val_loss: 0.4675 - val_accuracy: 0.8795\n",
      "Epoch 49/50\n",
      "137/137 [==============================] - 12s 87ms/step - loss: 0.0851 - accuracy: 0.9718 - val_loss: 0.2286 - val_accuracy: 0.9398\n",
      "Epoch 50/50\n",
      "137/137 [==============================] - 13s 92ms/step - loss: 0.0778 - accuracy: 0.9748 - val_loss: 0.2128 - val_accuracy: 0.9398\n"
     ]
    }
   ],
   "source": [
    "history=model.fit(train_ds,validation_data=val_ds, epochs=epochs)"
   ]
  },
  {
   "cell_type": "markdown",
   "metadata": {},
   "source": [
    "### Plot the graph"
   ]
  },
  {
   "cell_type": "code",
   "execution_count": 10,
   "metadata": {},
   "outputs": [
    {
     "data": {
      "image/png": "[encoded data removed]",
      "text/plain": [
       "<Figure size 432x288 with 1 Axes>"
      ]
     },
     "metadata": {
      "needs_background": "light"
     },
     "output_type": "display_data"
    }
   ],
   "source": [
    "plt.plot(history.history['accuracy'],'D', label='accuracy')\n",
    "plt.plot(history.history['val_accuracy'], label='validation')\n",
    "plt.title('model accuracy')\n",
    "plt.xlabel('epochs')\n",
    "plt.ylabel('accuracy')\n",
    "plt.legend([\"accuracy\",\"validation\"])\n",
    "plt.show()"
   ]
  },
  {
   "cell_type": "code",
   "execution_count": 11,
   "metadata": {},
   "outputs": [
    {
     "data": {
      "image/png": "[encoded data removed]",
      "text/plain": [
       "<Figure size 432x288 with 1 Axes>"
      ]
     },
     "metadata": {
      "needs_background": "light"
     },
     "output_type": "display_data"
    }
   ],
   "source": [
    "plt.plot(history.history['loss'], 'o', label='loss')\n",
    "plt.plot(history.history['val_loss'], label='validation')\n",
    "plt.title('model loss')\n",
    "plt.xlabel('epochs')\n",
    "plt.ylabel('loss')\n",
    "plt.legend([\"loss\",\"validation\"])\n",
    "plt.show()"
   ]
  },
  {
   "cell_type": "code",
   "execution_count": 12,
   "metadata": {},
   "outputs": [
    {
     "data": {
      "text/plain": [
       "{'loss': [2.947768449783325,\n",
       "  2.9068443775177,\n",
       "  2.2880847454071045,\n",
       "  1.4623034000396729,\n",
       "  0.9656298756599426,\n",
       "  0.7924789190292358,\n",
       "  0.6865247488021851,\n",
       "  0.596113920211792,\n",
       "  0.4560583233833313,\n",
       "  0.44106829166412354,\n",
       "  0.37511858344078064,\n",
       "  0.3257425129413605,\n",
       "  0.3185918629169464,\n",
       "  0.3352012038230896,\n",
       "  0.27754929661750793,\n",
       "  0.26358890533447266,\n",
       "  0.26048707962036133,\n",
       "  0.24731329083442688,\n",
       "  0.22541896998882294,\n",
       "  0.18080121278762817,\n",
       "  0.2003767490386963,\n",
       "  0.20765827596187592,\n",
       "  0.1627689152956009,\n",
       "  0.15682031214237213,\n",
       "  0.15610113739967346,\n",
       "  0.13990944623947144,\n",
       "  0.1670113205909729,\n",
       "  0.14886733889579773,\n",
       "  0.13294939696788788,\n",
       "  0.12840963900089264,\n",
       "  0.13802321255207062,\n",
       "  0.128236785531044,\n",
       "  0.13571646809577942,\n",
       "  0.12561558187007904,\n",
       "  0.12098545581102371,\n",
       "  0.13081760704517365,\n",
       "  0.1179734468460083,\n",
       "  0.11199931800365448,\n",
       "  0.12394416332244873,\n",
       "  0.11625080555677414,\n",
       "  0.08244168013334274,\n",
       "  0.12539221346378326,\n",
       "  0.11510112881660461,\n",
       "  0.09373147785663605,\n",
       "  0.08071870356798172,\n",
       "  0.07676929980516434,\n",
       "  0.09492088854312897,\n",
       "  0.09342166781425476,\n",
       "  0.08513827621936798,\n",
       "  0.07778910547494888],\n",
       " 'accuracy': [0.04916943609714508,\n",
       "  0.0724252462387085,\n",
       "  0.1900332272052765,\n",
       "  0.43255814909935,\n",
       "  0.6073089838027954,\n",
       "  0.6774086356163025,\n",
       "  0.7275747656822205,\n",
       "  0.7697674632072449,\n",
       "  0.8196013569831848,\n",
       "  0.8215946555137634,\n",
       "  0.8504983186721802,\n",
       "  0.8664451837539673,\n",
       "  0.8671096563339233,\n",
       "  0.8684385418891907,\n",
       "  0.8966777324676514,\n",
       "  0.8996677994728088,\n",
       "  0.8996677994728088,\n",
       "  0.905315637588501,\n",
       "  0.9179401993751526,\n",
       "  0.930232584476471,\n",
       "  0.9262458682060242,\n",
       "  0.9239202737808228,\n",
       "  0.9415282607078552,\n",
       "  0.9408637881278992,\n",
       "  0.9418604373931885,\n",
       "  0.9441860318183899,\n",
       "  0.9428571462631226,\n",
       "  0.9511628150939941,\n",
       "  0.9568106532096863,\n",
       "  0.9584717750549316,\n",
       "  0.949833869934082,\n",
       "  0.9561461806297302,\n",
       "  0.9554817080497742,\n",
       "  0.9571428298950195,\n",
       "  0.9558139443397522,\n",
       "  0.9571428298950195,\n",
       "  0.9584717750549316,\n",
       "  0.9624584913253784,\n",
       "  0.9617940187454224,\n",
       "  0.9607973694801331,\n",
       "  0.9727574586868286,\n",
       "  0.959800660610199,\n",
       "  0.9611295461654663,\n",
       "  0.9717608094215393,\n",
       "  0.9714285731315613,\n",
       "  0.9730896949768066,\n",
       "  0.9710963368415833,\n",
       "  0.9707641005516052,\n",
       "  0.9717608094215393,\n",
       "  0.974750816822052],\n",
       " 'val_loss': [2.9452943801879883,\n",
       "  2.6370537281036377,\n",
       "  1.8523437976837158,\n",
       "  0.9798567295074463,\n",
       "  0.8290255665779114,\n",
       "  0.604644238948822,\n",
       "  0.5482993125915527,\n",
       "  0.48901161551475525,\n",
       "  0.3646339178085327,\n",
       "  0.3710251748561859,\n",
       "  0.3837520182132721,\n",
       "  0.2838073968887329,\n",
       "  0.27323466539382935,\n",
       "  0.3111450970172882,\n",
       "  0.29845547676086426,\n",
       "  0.29500967264175415,\n",
       "  0.24633987247943878,\n",
       "  0.27272456884384155,\n",
       "  0.19587482511997223,\n",
       "  0.21750497817993164,\n",
       "  0.4062308371067047,\n",
       "  0.21478432416915894,\n",
       "  0.21211320161819458,\n",
       "  0.208379328250885,\n",
       "  0.3219740092754364,\n",
       "  0.24099870026111603,\n",
       "  0.21045608818531036,\n",
       "  0.2940889000892639,\n",
       "  0.21663537621498108,\n",
       "  0.12167956680059433,\n",
       "  0.18216337263584137,\n",
       "  0.3134051263332367,\n",
       "  0.27740344405174255,\n",
       "  0.402131050825119,\n",
       "  0.24733752012252808,\n",
       "  0.2840878963470459,\n",
       "  0.4426345229148865,\n",
       "  0.3469426929950714,\n",
       "  0.360651433467865,\n",
       "  0.41037383675575256,\n",
       "  0.27625513076782227,\n",
       "  0.28528499603271484,\n",
       "  0.3389550745487213,\n",
       "  0.3392195701599121,\n",
       "  0.24982401728630066,\n",
       "  0.3580365478992462,\n",
       "  0.21418358385562897,\n",
       "  0.4675326943397522,\n",
       "  0.22859789431095123,\n",
       "  0.21276867389678955],\n",
       " 'val_accuracy': [0.048192769289016724,\n",
       "  0.1325301229953766,\n",
       "  0.3614457845687866,\n",
       "  0.6746987700462341,\n",
       "  0.650602400302887,\n",
       "  0.7108433842658997,\n",
       "  0.759036123752594,\n",
       "  0.8433734774589539,\n",
       "  0.8674699068069458,\n",
       "  0.8313252925872803,\n",
       "  0.8433734774589539,\n",
       "  0.8795180916786194,\n",
       "  0.891566276550293,\n",
       "  0.8795180916786194,\n",
       "  0.891566276550293,\n",
       "  0.891566276550293,\n",
       "  0.9156626462936401,\n",
       "  0.9156626462936401,\n",
       "  0.9156626462936401,\n",
       "  0.9277108311653137,\n",
       "  0.9036144614219666,\n",
       "  0.9036144614219666,\n",
       "  0.9277108311653137,\n",
       "  0.9277108311653137,\n",
       "  0.9397590160369873,\n",
       "  0.891566276550293,\n",
       "  0.9277108311653137,\n",
       "  0.9397590160369873,\n",
       "  0.9397590160369873,\n",
       "  0.9518072009086609,\n",
       "  0.9397590160369873,\n",
       "  0.9277108311653137,\n",
       "  0.9156626462936401,\n",
       "  0.9156626462936401,\n",
       "  0.9397590160369873,\n",
       "  0.9397590160369873,\n",
       "  0.9156626462936401,\n",
       "  0.9277108311653137,\n",
       "  0.9156626462936401,\n",
       "  0.891566276550293,\n",
       "  0.9277108311653137,\n",
       "  0.9156626462936401,\n",
       "  0.9277108311653137,\n",
       "  0.9397590160369873,\n",
       "  0.9518072009086609,\n",
       "  0.9277108311653137,\n",
       "  0.9277108311653137,\n",
       "  0.8795180916786194,\n",
       "  0.9397590160369873,\n",
       "  0.9397590160369873]}"
      ]
     },
     "execution_count": 12,
     "metadata": {},
     "output_type": "execute_result"
    }
   ],
   "source": [
    "history.history # loss and accuracy dict view"
   ]
  },
  {
   "cell_type": "markdown",
   "metadata": {},
   "source": [
    "### Save the model"
   ]
  },
  {
   "cell_type": "code",
   "execution_count": 13,
   "metadata": {},
   "outputs": [
    {
     "name": "stdout",
     "output_type": "stream",
     "text": [
      "INFO:tensorflow:Assets written to: saved_model/ocr4_model\\assets\n"
     ]
    }
   ],
   "source": [
    "model.save('saved_model/ocr4_model')"
   ]
  },
  {
   "cell_type": "markdown",
   "metadata": {},
   "source": [
    "### load the model"
   ]
  },
  {
   "cell_type": "code",
   "execution_count": 14,
   "metadata": {},
   "outputs": [
    {
     "name": "stdout",
     "output_type": "stream",
     "text": [
      "Model: \"sequential\"\n",
      "_________________________________________________________________\n",
      "Layer (type)                 Output Shape              Param #   \n",
      "=================================================================\n",
      "rescaling_1 (Rescaling)      (None, 28, 28, 3)         0         \n",
      "_________________________________________________________________\n",
      "conv2d (Conv2D)              (None, 28, 28, 64)        1792      \n",
      "_________________________________________________________________\n",
      "max_pooling2d (MaxPooling2D) (None, 14, 14, 64)        0         \n",
      "_________________________________________________________________\n",
      "dropout (Dropout)            (None, 14, 14, 64)        0         \n",
      "_________________________________________________________________\n",
      "conv2d_1 (Conv2D)            (None, 14, 14, 128)       73856     \n",
      "_________________________________________________________________\n",
      "max_pooling2d_1 (MaxPooling2 (None, 7, 7, 128)         0         \n",
      "_________________________________________________________________\n",
      "dropout_1 (Dropout)          (None, 7, 7, 128)         0         \n",
      "_________________________________________________________________\n",
      "conv2d_2 (Conv2D)            (None, 7, 7, 128)         147584    \n",
      "_________________________________________________________________\n",
      "max_pooling2d_2 (MaxPooling2 (None, 3, 3, 128)         0         \n",
      "_________________________________________________________________\n",
      "dropout_2 (Dropout)          (None, 3, 3, 128)         0         \n",
      "_________________________________________________________________\n",
      "conv2d_3 (Conv2D)            (None, 3, 3, 64)          73792     \n",
      "_________________________________________________________________\n",
      "max_pooling2d_3 (MaxPooling2 (None, 1, 1, 64)          0         \n",
      "_________________________________________________________________\n",
      "dropout_3 (Dropout)          (None, 1, 1, 64)          0         \n",
      "_________________________________________________________________\n",
      "flatten (Flatten)            (None, 64)                0         \n",
      "_________________________________________________________________\n",
      "dense (Dense)                (None, 128)               8320      \n",
      "_________________________________________________________________\n",
      "dense_1 (Dense)              (None, 256)               33024     \n",
      "_________________________________________________________________\n",
      "dense_2 (Dense)              (None, 128)               32896     \n",
      "_________________________________________________________________\n",
      "dense_3 (Dense)              (None, 19)                2451      \n",
      "=================================================================\n",
      "Total params: 373,715\n",
      "Trainable params: 373,715\n",
      "Non-trainable params: 0\n",
      "_________________________________________________________________\n"
     ]
    }
   ],
   "source": [
    "loaded_model = tf.keras.models.load_model('saved_model/ocr4_model')\n",
    "# Check its architecture\n",
    "loaded_model.summary()"
   ]
  },
  {
   "cell_type": "markdown",
   "metadata": {},
   "source": [
    "### Classes and their corresponding character dict"
   ]
  },
  {
   "cell_type": "code",
   "execution_count": 15,
   "metadata": {},
   "outputs": [
    {
     "name": "stdout",
     "output_type": "stream",
     "text": [
      "{'bra': 'ब्र', 'tta': 'त्त', 'mra': 'म्र', 'mri': 'मृ', 'dwa': 'द्व', 'hya': 'ह्य', 'hra': 'ह्र', 'gri': 'गृ', 'rhi': 'ॠ', 'kra': 'क्र', 'pra': 'प्र', 'dya': 'द्य', 'dda': 'दृ', 'hri': 'हृ', 'traw': 'ट्र', 'tra': 'त्र', 'dra': 'द्र', 'dma': 'द्म', 'shra': 'श्र'}\n"
     ]
    }
   ],
   "source": [
    "class_dict={\"bra\": \"ब्र\", \"tta\": \"त्त\", \"mra\": \"म्र\", \"mri\": \"मृ\", \"dwa\": \"द्व\", \"hya\": \"ह्य\", \"hra\": \"ह्र\", \"gri\": \"गृ\", \"rhi\": \"ॠ\", \n",
    "            \"kra\": \"क्र\", \"pra\": \"प्र\",\"dya\": \"द्य\", \"dda\": \"दृ\", \"hri\": \"हृ\", \"traw\": \"ट्र\", \"tra\": \"त्र\", \"dra\": \"द्र\", \"dma\": \"द्म\",\n",
    "            \"shra\": \"श्र\"}"
   ]
  },
  {
   "cell_type": "markdown",
   "metadata": {},
   "source": [
    "### Test image load, reshape, and predict:"
   ]
  },
  {
   "cell_type": "code",
   "execution_count": 24,
   "metadata": {},
   "outputs": [
    {
     "name": "stdout",
     "output_type": "stream",
     "text": [
      "(28, 28, 3)\n",
      "(1, 28, 28, 3)\n"
     ]
    },
    {
     "data": {
      "image/png": "[encoded data removed]",
      "text/plain": [
       "<Figure size 432x288 with 1 Axes>"
      ]
     },
     "metadata": {
      "needs_background": "light"
     },
     "output_type": "display_data"
    },
    {
     "name": "stdout",
     "output_type": "stream",
     "text": [
      "Prediction: ब्र ; confidence: 72.84\n"
     ]
    }
   ],
   "source": [
    "imageName='check_image.png'\n",
    "img_=cv2.imread(imageName)\n",
    "img_=cv2.resize(img_, (28,28)) # resize to 180,180 as that is on which model is trained on\n",
    "_img_ = tf.expand_dims(img_, 0) # expand the dims means change shape from (180, 180, 3) to (1, 180, 180, 3)\n",
    "im = cv2.imread(imageName,1)\n",
    "im=cv2.resize(im, (100,100))\n",
    "plt.imshow(im,cmap=plt.cm.binary)\n",
    "print(img_.shape)\n",
    "print(_img_.shape)\n",
    "plt.show()\n",
    "\n",
    "predictions = loaded_model.predict(_img_)\n",
    "score = tf.nn.softmax(predictions[0]) # # get softmax for each output\n",
    "_class_=class_names[np.argmax(score)]\n",
    "\n",
    "selected_devnagari_label=class_dict[_class_]\n",
    "print(\n",
    "    \"Prediction: {} ; confidence: {:.2f}\"\n",
    "    .format(selected_devnagari_label, 100 * np.max(score))\n",
    ") "
   ]
  },
  {
   "cell_type": "code",
   "execution_count": null,
   "metadata": {},
   "outputs": [],
   "source": []
  }
 ],
 "metadata": {
  "kernelspec": {
   "display_name": "Python 3",
   "language": "python",
   "name": "python3"
  },
  "language_info": {
   "codemirror_mode": {
    "name": "ipython",
    "version": 3
   },
   "file_extension": ".py",
   "mimetype": "text/x-python",
   "name": "python",
   "nbconvert_exporter": "python",
   "pygments_lexer": "ipython3",
   "version": "3.8.5"
  }
 },
 "nbformat": 4,
 "nbformat_minor": 4
}
